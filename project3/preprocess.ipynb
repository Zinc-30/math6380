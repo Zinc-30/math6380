{
 "cells": [
  {
   "cell_type": "code",
   "execution_count": 3,
   "metadata": {
    "collapsed": false
   },
   "outputs": [],
   "source": [
    "import pandas as pd\n",
    "import numpy as np\n",
    "drug_frame = pd.read_csv(\"train3M_drug_pair.csv\")\n",
    "drug_pair_train = drug_frame.loc[~np.isnan(drug_frame['Comparison'])]\n",
    "drug_pair_test = drug_frame.loc[np.isnan(drug_frame['Comparison'])]\n",
    "cells_frame = pd.read_excel('cell_line_features.xlsx')"
   ]
  },
  {
   "cell_type": "code",
   "execution_count": 11,
   "metadata": {
    "collapsed": false
   },
   "outputs": [],
   "source": [
    "def build_drug_list():\n",
    "    f1 = open('druglist.txt','w')\n",
    "    drug1 = drug_frame['Drug1'].values.tolist()\n",
    "    drug2 = drug_frame['Drug2'].values.tolist()\n",
    "    drug_list = list(set(drug1 + drug2))\n",
    "    f1.write(' '.join(drug_list))\n",
    "    f1.close()"
   ]
  },
  {
   "cell_type": "code",
   "execution_count": 12,
   "metadata": {
    "collapsed": false
   },
   "outputs": [],
   "source": [
    "build_drug_list()"
   ]
  },
  {
   "cell_type": "code",
   "execution_count": 28,
   "metadata": {
    "collapsed": false
   },
   "outputs": [
    {
     "name": "stdout",
     "output_type": "stream",
     "text": [
      "<class 'str'> D221\n",
      "<class 'numpy.float64'>\n"
     ]
    }
   ],
   "source": [
    "comps = drug_frame['Comparison'].values\n",
    "drug2 = drug_frame['Drug2'].values\n",
    "print(type(drug2[0]), drug2[0])\n",
    "comps = drug_frame['Comparison'].values\n",
    "print(type(comps[10]))"
   ]
  },
  {
   "cell_type": "code",
   "execution_count": 6,
   "metadata": {
    "collapsed": false
   },
   "outputs": [
    {
     "name": "stdout",
     "output_type": "stream",
     "text": [
      "265\n"
     ]
    }
   ],
   "source": [
    "drug1 = drug_frame['Drug1'].values.tolist()\n",
    "drug2 = drug_frame['Drug2'].values.tolist()\n",
    "drug_list = list(set(drug1 + drug2))\n",
    "print(len(drug_list))"
   ]
  },
  {
   "cell_type": "code",
   "execution_count": 10,
   "metadata": {
    "collapsed": false
   },
   "outputs": [],
   "source": [
    "def build_cell_list():\n",
    "    f2 = open('celllist.txt','w')\n",
    "    cells_name = cells_frame.columns.values.tolist()\n",
    "    cells_name = cells_name[1:]\n",
    "    f2.write(' '.join(cells_name))\n",
    "    f2.close()\n",
    "build_cell_list()"
   ]
  },
  {
   "cell_type": "code",
   "execution_count": 15,
   "metadata": {
    "collapsed": false
   },
   "outputs": [],
   "source": [
    "def build_cell_feature():\n",
    "    f3 = open('cellfeature.txt','w')\n",
    "    cells_name = cells_frame.columns.values.tolist()\n",
    "    cells_name = cells_name[1:]\n",
    "    for name in cells_name:\n",
    "        genes = cells_frame[name].values.tolist()\n",
    "        genes = genes[1:]\n",
    "        first = True\n",
    "        for i in range(len(genes)):\n",
    "            ge = genes[i]\n",
    "            if ge != 0:\n",
    "                if first:\n",
    "                    f3.write(str(i))\n",
    "                    first = False\n",
    "                else:\n",
    "                    f3.write(\" \" + str(i))\n",
    "        f3.write('\\n')\n",
    "    f3.close()\n",
    "build_cell_feature()"
   ]
  },
  {
   "cell_type": "code",
   "execution_count": 24,
   "metadata": {
    "collapsed": false
   },
   "outputs": [],
   "source": [
    "def build_train_test_pairs():\n",
    "    f1 = open('trainpair.txt','w')\n",
    "    f2 = open('testpair.txt','w')\n",
    "    drug_frame = pd.read_csv(\"train3M_drug_pair.csv\")\n",
    "    cellins = drug_frame['CellLineID'].values\n",
    "    drug1 = drug_frame['Drug1'].values\n",
    "    drug2 = drug_frame['Drug2'].values\n",
    "    comps = drug_frame['Comparison'].values\n",
    "    lens = len(comps)\n",
    "    for i in range(lens):\n",
    "        if comps[i] == np.nan:\n",
    "            f2.write('%d %s %s %s\\n' % (i, cellins[i], drug1[i], drug2[i]))\n",
    "        else:\n",
    "            f1.write('%d %s %s %s %f\\n' % (i, cellins[i], drug1[i], drug2[i], comps[i]))\n",
    "    f1.close()\n",
    "    f2.close()\n",
    "build_train_test_pairs()"
   ]
  },
  {
   "cell_type": "code",
   "execution_count": null,
   "metadata": {
    "collapsed": true
   },
   "outputs": [],
   "source": []
  }
 ],
 "metadata": {
  "anaconda-cloud": {},
  "kernelspec": {
   "display_name": "Python [Root]",
   "language": "python",
   "name": "Python [Root]"
  },
  "language_info": {
   "codemirror_mode": {
    "name": "ipython",
    "version": 3
   },
   "file_extension": ".py",
   "mimetype": "text/x-python",
   "name": "python",
   "nbconvert_exporter": "python",
   "pygments_lexer": "ipython3",
   "version": "3.5.2"
  }
 },
 "nbformat": 4,
 "nbformat_minor": 0
}
